{
  "nbformat": 4,
  "nbformat_minor": 0,
  "metadata": {
    "colab": {
      "provenance": [],
      "authorship_tag": "ABX9TyNDn6QrFkb1VNkQ8khFpkwU",
      "include_colab_link": true
    },
    "kernelspec": {
      "name": "python3",
      "display_name": "Python 3"
    },
    "language_info": {
      "name": "python"
    }
  },
  "cells": [
    {
      "cell_type": "markdown",
      "metadata": {
        "id": "view-in-github",
        "colab_type": "text"
      },
      "source": [
        "<a href=\"https://colab.research.google.com/github/vantung20146105/BT_tuan7/blob/main/week13.ipynb\" target=\"_parent\"><img src=\"https://colab.research.google.com/assets/colab-badge.svg\" alt=\"Open In Colab\"/></a>"
      ]
    },
    {
      "cell_type": "code",
      "execution_count": 3,
      "metadata": {
        "colab": {
          "base_uri": "https://localhost:8080/"
        },
        "id": "H7LRteRvI7a7",
        "outputId": "8a02a116-d713-44d3-e569-c4d3b49964a5"
      },
      "outputs": [
        {
          "output_type": "stream",
          "name": "stdout",
          "text": [
            "cô đơn dành cho aiLooking in indexes: https://pypi.org/simple, https://us-python.pkg.dev/colab-wheels/public/simple/\n",
            "Requirement already satisfied: youtube_search in /usr/local/lib/python3.9/dist-packages (2.1.2)\n",
            "Requirement already satisfied: requests in /usr/local/lib/python3.9/dist-packages (from youtube_search) (2.27.1)\n",
            "Requirement already satisfied: idna<4,>=2.5 in /usr/local/lib/python3.9/dist-packages (from requests->youtube_search) (3.4)\n",
            "Requirement already satisfied: urllib3<1.27,>=1.21.1 in /usr/local/lib/python3.9/dist-packages (from requests->youtube_search) (1.26.15)\n",
            "Requirement already satisfied: certifi>=2017.4.17 in /usr/local/lib/python3.9/dist-packages (from requests->youtube_search) (2022.12.7)\n",
            "Requirement already satisfied: charset-normalizer~=2.0.0 in /usr/local/lib/python3.9/dist-packages (from requests->youtube_search) (2.0.12)\n"
          ]
        }
      ],
      "source": [
        "pip install youtube_search"
      ]
    },
    {
      "cell_type": "code",
      "source": [
        "# Kết nối với google drive\n",
        "from google.colab import drive\n",
        "drive.mount('/content/drive')\n"
      ],
      "metadata": {
        "id": "r-r0N4ohNmTk",
        "outputId": "916dd1d2-571d-41b0-cc81-852e9704689d",
        "colab": {
          "base_uri": "https://localhost:8080/"
        }
      },
      "execution_count": 7,
      "outputs": [
        {
          "output_type": "stream",
          "name": "stdout",
          "text": [
            "Mounted at /content/drive\n"
          ]
        }
      ]
    },
    {
      "cell_type": "code",
      "source": [
        "from youtube_search import YoutubeSearch\n",
        "import webbrowser\n",
        "mysong =input('nhap ten bai hat ')\n",
        "result= YoutubeSearch(mysong,max_results=10).to_dict()\n",
        "print(result) \n",
        "print(result[0]['url_suffix'])\n",
        "url='http://www.youtube.com'+result[0]['url_suffix']\n",
        "print(url)"
      ],
      "metadata": {
        "colab": {
          "base_uri": "https://localhost:8080/"
        },
        "id": "Nu2QgeV8JAXc",
        "outputId": "3b03fdfb-1f21-487d-94a7-233510c56dc7"
      },
      "execution_count": 5,
      "outputs": [
        {
          "output_type": "stream",
          "name": "stdout",
          "text": [
            "nhap ten bai hat cô đơn dành cho ai\n",
            "[{'id': '0I4bDR9vu5Q', 'thumbnails': ['https://i.ytimg.com/vi/0I4bDR9vu5Q/hq720.jpg?sqp=-oaymwEjCOgCEMoBSFryq4qpAxUIARUAAAAAGAElAADIQj0AgKJDeAE=&rs=AOn4CLC0I7AsSFXjQ88Opp8iyHB9tSW-dQ', 'https://i.ytimg.com/vi/0I4bDR9vu5Q/hq720.jpg?sqp=-oaymwEXCNAFEJQDSFryq4qpAwkIARUAAIhCGAE=&rs=AOn4CLA3yeWmTcfqtJgK5SwTOxIGe57vtg'], 'title': 'CÔ ĐƠN DÀNH CHO AI | LEE KEN x NAL | OFFICIAL MUSIC VIDEO', 'long_desc': None, 'channel': 'Lee Ken PT', 'duration': '5:14', 'views': '77,011,352 views', 'publish_time': '2 years ago', 'url_suffix': '/watch?v=0I4bDR9vu5Q&pp=ygUWY8O0IMSRxqFuIGTDoG5oIGNobyBhaQ%3D%3D'}, {'id': '0-N3smdam4s', 'thumbnails': ['https://i.ytimg.com/vi/0-N3smdam4s/hq720.jpg?sqp=-oaymwEjCOgCEMoBSFryq4qpAxUIARUAAAAAGAElAADIQj0AgKJDeAE=&rs=AOn4CLAsCFRuxpkxBR2ornu46ycYWY9zEg', 'https://i.ytimg.com/vi/0-N3smdam4s/hq720.jpg?sqp=-oaymwEXCNAFEJQDSFryq4qpAwkIARUAAIhCGAE=&rs=AOn4CLB1nEk44CslyewilEkUJsmcFLakvw'], 'title': '♬Lofi Lyrics/ Cô đơn dành cho ai - Lee Ken x Nal', 'long_desc': None, 'channel': 'Kho Nhạc Lofi', 'duration': '3:33', 'views': '31,858,427 views', 'publish_time': '2 years ago', 'url_suffix': '/watch?v=0-N3smdam4s&pp=ygUWY8O0IMSRxqFuIGTDoG5oIGNobyBhaQ%3D%3D'}, {'id': 'd7cZgZprTLQ', 'thumbnails': ['https://i.ytimg.com/vi/d7cZgZprTLQ/hq720.jpg?sqp=-oaymwEjCOgCEMoBSFryq4qpAxUIARUAAAAAGAElAADIQj0AgKJDeAE=&rs=AOn4CLAmmsj8GGLXSEaVmk3ExarMZxzuAA', 'https://i.ytimg.com/vi/d7cZgZprTLQ/hq720.jpg?sqp=-oaymwEXCNAFEJQDSFryq4qpAwkIARUAAIhCGAE=&rs=AOn4CLCbBJ5SeSh9KiYT0dUclHitozP_Hg'], 'title': 'Hoa Cưới Remix, Cô Đơn Dành Cho Ai Remix, Rồi Người Rời Bước Thật Mau Mặc Vào Tà Áo Nàng Dâu Remix', 'long_desc': None, 'channel': 'H2O Remix', 'duration': '1:10:04', 'views': '7,415 views', 'publish_time': '1 day ago', 'url_suffix': '/watch?v=d7cZgZprTLQ&pp=ygUWY8O0IMSRxqFuIGTDoG5oIGNobyBhaQ%3D%3D'}, {'id': 'kU7BHFRhOgQ', 'thumbnails': ['https://i.ytimg.com/vi/kU7BHFRhOgQ/hq720.jpg?sqp=-oaymwEjCOgCEMoBSFryq4qpAxUIARUAAAAAGAElAADIQj0AgKJDeAE=&rs=AOn4CLAuazj6U0CD76_1iWHSsP8uZipHDA', 'https://i.ytimg.com/vi/kU7BHFRhOgQ/hq720.jpg?sqp=-oaymwEXCNAFEJQDSFryq4qpAwkIARUAAIhCGAE=&rs=AOn4CLA6gz_ZMXLpsBbYEy64IruNoZVWJQ'], 'title': 'CÔ ĐƠN DÀNH CHO AI REMIX NONSTOP DJ 2021 Vinahouse TIK TOK, Nhạc Trẻ Remix cô đơn dành cho ai đây', 'long_desc': None, 'channel': 'BD Media Music', 'duration': '1:11:36', 'views': '1,172,375 views', 'publish_time': '1 year ago', 'url_suffix': '/watch?v=kU7BHFRhOgQ&pp=ygUWY8O0IMSRxqFuIGTDoG5oIGNobyBhaQ%3D%3D'}, {'id': 'MLqEarFdih0', 'thumbnails': ['https://i.ytimg.com/vi/MLqEarFdih0/hq720.jpg?sqp=-oaymwE9COgCEMoBSFryq4qpAy8IARUAAAAAGAElAADIQj0AgKJDeAHwAQH4Af4JgALQBYoCDAgAEAEYOiAhKH8wDw==&rs=AOn4CLAd8ImIaaNPHILvzK7oyZ3sLkY7YA', 'https://i.ytimg.com/vi/MLqEarFdih0/hq720.jpg?sqp=-oaymwExCNAFEJQDSFryq4qpAyMIARUAAIhCGAHwAQH4Af4JgALQBYoCDAgAEAEYOiAhKH8wDw==&rs=AOn4CLCXsQWH3AK2bjzeGoMff4A4yHLKiA'], 'title': 'Cô Đơn Dành Cho Ai Đây Remix, Con Tim Em Thay Lòng Remix | NONSTOP Vinahouse Nhạc Trẻ DJ Remix 2022', 'long_desc': None, 'channel': 'KÊNH NONSTOP', 'duration': '1:11:04', 'views': '253,836 views', 'publish_time': '10 months ago', 'url_suffix': '/watch?v=MLqEarFdih0&pp=ygUWY8O0IMSRxqFuIGTDoG5oIGNobyBhaQ%3D%3D'}, {'id': 'tjGJjFE0fxE', 'thumbnails': ['https://i.ytimg.com/vi/tjGJjFE0fxE/hq720.jpg?sqp=-oaymwEjCOgCEMoBSFryq4qpAxUIARUAAAAAGAElAADIQj0AgKJDeAE=&rs=AOn4CLC3_RjDhaGe2W5henHh3iFMkHWeVw', 'https://i.ytimg.com/vi/tjGJjFE0fxE/hq720.jpg?sqp=-oaymwEXCNAFEJQDSFryq4qpAwkIARUAAIhCGAE=&rs=AOn4CLAPFG8U3Uh05yv-APGZ1e65FdeRxw'], 'title': 'Cô Đơn Dành Cho Ai (Orinn Remix) - NAL x LEE KEN | Nhạc Trẻ Remix Căng Cực Gây Nghiện Nhất 2021', 'long_desc': None, 'channel': 'Orinn Mix', 'duration': '5:06', 'views': '36,777,453 views', 'publish_time': '2 years ago', 'url_suffix': '/watch?v=tjGJjFE0fxE&pp=ygUWY8O0IMSRxqFuIGTDoG5oIGNobyBhaQ%3D%3D'}, {'id': 'ilKg0DZrOwY', 'thumbnails': ['https://i.ytimg.com/vi/ilKg0DZrOwY/hq720.jpg?sqp=-oaymwEjCOgCEMoBSFryq4qpAxUIARUAAAAAGAElAADIQj0AgKJDeAE=&rs=AOn4CLB8rI6xG0nPr60AvTs6M942S_gQbA', 'https://i.ytimg.com/vi/ilKg0DZrOwY/hq720.jpg?sqp=-oaymwEXCNAFEJQDSFryq4qpAwkIARUAAIhCGAE=&rs=AOn4CLBc0zNpgGl2fSZVycBXNq_7xkPTgw'], 'title': 'AI MANG CÔ ĐƠN ĐI - K-ICM FT. APJ | OFFICIAL AUDIO', 'long_desc': None, 'channel': 'ICM Entertainment', 'duration': '3:37', 'views': '124,631,300 views', 'publish_time': '2 years ago', 'url_suffix': '/watch?v=ilKg0DZrOwY&pp=ygUWY8O0IMSRxqFuIGTDoG5oIGNobyBhaQ%3D%3D'}, {'id': '6LV_IzqwxVQ', 'thumbnails': ['https://i.ytimg.com/vi/6LV_IzqwxVQ/hq720.jpg?sqp=-oaymwEjCOgCEMoBSFryq4qpAxUIARUAAAAAGAElAADIQj0AgKJDeAE=&rs=AOn4CLBz-EQKD0Vqev__xzL2ccuDIbzA-w', 'https://i.ytimg.com/vi/6LV_IzqwxVQ/hq720.jpg?sqp=-oaymwEXCNAFEJQDSFryq4qpAwkIARUAAIhCGAE=&rs=AOn4CLDJP-8ITSfyAazhRULHAf1PcXo2mw'], 'title': 'CÔ ĐƠN DÀNH CHO AI', 'long_desc': None, 'channel': 'Various Artists - Topic', 'duration': '3:52', 'views': '149,399 views', 'publish_time': 0, 'url_suffix': '/watch?v=6LV_IzqwxVQ&pp=ygUWY8O0IMSRxqFuIGTDoG5oIGNobyBhaQ%3D%3D'}, {'id': 'lz6uCMjxbtI', 'thumbnails': ['https://i.ytimg.com/vi/lz6uCMjxbtI/hq720.jpg?sqp=-oaymwEjCOgCEMoBSFryq4qpAxUIARUAAAAAGAElAADIQj0AgKJDeAE=&rs=AOn4CLD1ZLEMwUrCU3Feo8HFgo18ASbfbA', 'https://i.ytimg.com/vi/lz6uCMjxbtI/hq720.jpg?sqp=-oaymwEXCNAFEJQDSFryq4qpAwkIARUAAIhCGAE=&rs=AOn4CLBYCCMHcUaWNe-55R-V1iDjTma7sw'], 'title': 'CÔ ĐƠN DÀNH CHO AI | LEE KEN x NAL | OFFICIAL MUSIC VIDEO LYRICS', 'long_desc': None, 'channel': 'Lee Ken PT', 'duration': '3:52', 'views': '1,875,677 views', 'publish_time': '2 years ago', 'url_suffix': '/watch?v=lz6uCMjxbtI&pp=ygUWY8O0IMSRxqFuIGTDoG5oIGNobyBhaQ%3D%3D'}, {'id': 'Tl0AtRLKPJo', 'thumbnails': ['https://i.ytimg.com/vi/Tl0AtRLKPJo/hqdefault.jpg?sqp=-oaymwEjCOADEI4CSFryq4qpAxUIARUAAAAAGAElAADIQj0AgKJDeAE=&rs=AOn4CLAbTNsx7BoDiiFoFBQn_iqPNRcL8A'], 'title': 'CÔ ĐƠN DÀNH CHO AI | LEE KEN x NAL | COVER ÚT NHỊ MINO', 'long_desc': None, 'channel': 'Út Mino Official', 'duration': '3:30', 'views': '4,445,213 views', 'publish_time': '1 year ago', 'url_suffix': '/watch?v=Tl0AtRLKPJo&pp=ygUWY8O0IMSRxqFuIGTDoG5oIGNobyBhaQ%3D%3D'}]\n",
            "/watch?v=0I4bDR9vu5Q&pp=ygUWY8O0IMSRxqFuIGTDoG5oIGNobyBhaQ%3D%3D\n",
            "http://www.youtube.com/watch?v=0I4bDR9vu5Q&pp=ygUWY8O0IMSRxqFuIGTDoG5oIGNobyBhaQ%3D%3D\n"
          ]
        }
      ]
    },
    {
      "cell_type": "code",
      "source": [
        "pip install openpyxl"
      ],
      "metadata": {
        "colab": {
          "base_uri": "https://localhost:8080/"
        },
        "id": "b9-vLB6hJGkz",
        "outputId": "53f4144a-d8fd-4e72-f2c3-92c6a03664ee"
      },
      "execution_count": 6,
      "outputs": [
        {
          "output_type": "stream",
          "name": "stdout",
          "text": [
            "Looking in indexes: https://pypi.org/simple, https://us-python.pkg.dev/colab-wheels/public/simple/\n",
            "Requirement already satisfied: openpyxl in /usr/local/lib/python3.9/dist-packages (3.0.10)\n",
            "Requirement already satisfied: et-xmlfile in /usr/local/lib/python3.9/dist-packages (from openpyxl) (1.1.0)\n"
          ]
        }
      ]
    },
    {
      "cell_type": "code",
      "source": [
        "from youtube_search import YoutubeSearch\n",
        "import webbrowser\n",
        "from openpyxl import Workbook\n",
        "data=Workbook()\n",
        "sheet=data.active\n",
        "\n",
        "\n",
        "mysong =input('Xin mời bạn chọn bài hát ')\n",
        "print(mysong) \n",
        "result= YoutubeSearch(mysong,max_results=10).to_dict()\n",
        "print(result) \n",
        "for i in range(10):\n",
        "  print(result[i]['title'])\n",
        "  print(result[i]['url_suffix'])\n",
        "url='http://www.youtube.com'+result[0]['url_suffix']  \n",
        "\n",
        "print(result[0]['url_suffix'])\n",
        "url='http://www.youtube.com'+result[0]['url_suffix']\n",
        "print(url)\n",
        "# 5 mẫu đối thoại (War)\n",
        "# 5 đoạn (War)\n",
        "# 5 đoạn văn bản "
      ],
      "metadata": {
        "id": "nffmfaxKKAQE"
      },
      "execution_count": null,
      "outputs": []
    },
    {
      "cell_type": "code",
      "source": [
        "pip install mtcnn"
      ],
      "metadata": {
        "id": "EcoabJcdOp96",
        "outputId": "a74b0733-9a9d-435b-a76b-c5b83ea1e7b6",
        "colab": {
          "base_uri": "https://localhost:8080/"
        }
      },
      "execution_count": 9,
      "outputs": [
        {
          "output_type": "stream",
          "name": "stdout",
          "text": [
            "Looking in indexes: https://pypi.org/simple, https://us-python.pkg.dev/colab-wheels/public/simple/\n",
            "Collecting mtcnn\n",
            "  Downloading mtcnn-0.1.1-py3-none-any.whl (2.3 MB)\n",
            "\u001b[2K     \u001b[90m━━━━━━━━━━━━━━━━━━━━━━━━━━━━━━━━━━━━━━━━\u001b[0m \u001b[32m2.3/2.3 MB\u001b[0m \u001b[31m30.7 MB/s\u001b[0m eta \u001b[36m0:00:00\u001b[0m\n",
            "\u001b[?25hRequirement already satisfied: opencv-python>=4.1.0 in /usr/local/lib/python3.9/dist-packages (from mtcnn) (4.7.0.72)\n",
            "Requirement already satisfied: keras>=2.0.0 in /usr/local/lib/python3.9/dist-packages (from mtcnn) (2.12.0)\n",
            "Requirement already satisfied: numpy>=1.19.3 in /usr/local/lib/python3.9/dist-packages (from opencv-python>=4.1.0->mtcnn) (1.22.4)\n",
            "Installing collected packages: mtcnn\n",
            "Successfully installed mtcnn-0.1.1\n"
          ]
        }
      ]
    },
    {
      "cell_type": "code",
      "source": [
        "#Pretrain models\n",
        "#MTCNN\n",
        "from mtcnn import MTCNN\n",
        "import matplotlib.pyplot as plt \n",
        "filename1='/content/drive/MyDrive/Recogniton_face/Train_Ai_Image-Resized/Train_Ai_Image-Resized/valid/valid/AnhKiet/Anhkiet 1.jpg'\n",
        "filename2='/content/drive/MyDrive/Recogniton_face/Train_Ai_Image-Resized/Train_Ai_Image-Resized/valid/valid/AnhKiet/Anhkiet 2.jpg'\n",
        "\n",
        "img1=plt.imread(filename1)\n",
        "plt.imshow(img1)\n",
        "img2=plt.imread(filename2)\n",
        "plt.imshow(img2)"
      ],
      "metadata": {
        "id": "QmN99xwjMPbe",
        "outputId": "9becfae7-7cef-4f9c-b05a-486c2af9c652",
        "colab": {
          "base_uri": "https://localhost:8080/",
          "height": 448
        }
      },
      "execution_count": 17,
      "outputs": [
        {
          "output_type": "execute_result",
          "data": {
            "text/plain": [
              "<matplotlib.image.AxesImage at 0x7f8b70815910>"
            ]
          },
          "metadata": {},
          "execution_count": 17
        },
        {
          "output_type": "display_data",
          "data": {
            "text/plain": [
              "<Figure size 640x480 with 1 Axes>"
            ],
            "image/png": "[encoded data removed]"
          },
          "metadata": {}
        }
      ]
    },
    {
      "cell_type": "code",
      "source": [
        "from mtcnn import MTCNN\n",
        "import matplotlib.pyplot as plt \n",
        "filename='/content/drive/MyDrive/Recogniton_face/Train_Ai_Image-Resized/Train_Ai_Image-Resized/valid/valid/AnhKiet/Anhkiet 1.jpg'\n",
        "img1=plt.imread(filename1)\n",
        "detector =MTCNN()\n",
        "faces=detector.detect_faces(img1)\n",
        "plt.imshow(img1)\n",
        "ax=plt.gca()\n",
        "for face in faces:\n",
        "  x,y,width,height=face['box']\n",
        "  rect=plt.Rectangle ((x,y),width,height, fill=False, color='red')\n",
        "  ax.add_patch(rect)\n",
        "  for key,value in face['keypoints'].items():\n",
        "    dot=plt.Circle(value,radius=2,color='red')\n",
        "    ax.add_patch(dot)\n",
        "from mtcnn import MTCNN\n",
        "from mtcnn import MTCNN\n",
        "import matplotlib.pyplot as plt \n",
        "def draw_faces(filename, result_list):\n",
        "  data=plt.imread(filename)\n",
        "  for i in range(len(result_list)):\n",
        "    x1,y1,width,height=result_list[i]['box']\n",
        "    x2,y2=x1+width,y1+height\n",
        "    plt.subplot(1,len(result_list),i+1)\n",
        "    plt.axis('off')\n",
        "    plt.imshow(data[y1,y2,x1,x2])\n",
        "\n",
        "  \n",
        "plt.show()  "
      ],
      "metadata": {
        "id": "xqwA8B6JQAek",
        "outputId": "3f79366f-5f76-4285-dfb9-26191033e447",
        "colab": {
          "base_uri": "https://localhost:8080/",
          "height": 500
        }
      },
      "execution_count": 34,
      "outputs": [
        {
          "output_type": "stream",
          "name": "stdout",
          "text": [
            "1/1 [==============================] - 0s 101ms/step\n",
            "1/1 [==============================] - 0s 96ms/step\n",
            "1/1 [==============================] - 0s 123ms/step\n",
            "1/1 [==============================] - 0s 142ms/step\n"
          ]
        },
        {
          "output_type": "display_data",
          "data": {
            "text/plain": [
              "<Figure size 640x480 with 1 Axes>"
            ],
            "image/png": "[encoded data removed]"
          },
          "metadata": {}
        }
      ]
    },
    {
      "cell_type": "code",
      "source": [
        "from tensorflow.keras.applications.resnet50 import ResNet50\n",
        "from tensorflow.keras.preprocessing import image\n",
        "from tensorflow.keras.applications.resnet50 import preprocess_input, decode_predictions\n",
        "import numpy as np\n",
        "\n",
        "model = ResNet50(weights='imagenet')\n",
        "\n",
        "img_path = '/content/drive/MyDrive/Recogniton_face/Train_Ai_Image-Resized/Train_Ai_Image-Resized/test/cow.jpg'\n",
        "img = image.load_img(img_path, target_size=(224, 224))\n",
        "x = image.img_to_array(img)\n",
        "x = np.expand_dims(x, axis=0)\n",
        "x = preprocess_input(x)\n",
        "\n",
        "preds = model.predict(x)\n",
        "# decode the results into a list of tuples (class, description, probability)\n",
        "# (one such list for each sample in the batch)\n",
        "print('Predicted:', decode_predictions(preds, top=3)[0])"
      ],
      "metadata": {
        "id": "N7YktWkaZG2M",
        "outputId": "1317312d-6582-4401-ce23-2f20b15abe53",
        "colab": {
          "base_uri": "https://localhost:8080/"
        }
      },
      "execution_count": 38,
      "outputs": [
        {
          "output_type": "stream",
          "name": "stdout",
          "text": [
            "1/1 [==============================] - 1s 1s/step\n",
            "Predicted: [('n01582220', 'magpie', 0.5774556), ('n02403003', 'ox', 0.28445664), ('n03868242', 'oxcart', 0.043280017)]\n"
          ]
        }
      ]
    },
    {
      "cell_type": "code",
      "source": [
        "from tensorflow.keras.applications.resnet50 import ResNet50\n",
        "from tensorflow.keras.preprocessing import image\n",
        "from tensorflow.keras.applications.resnet50 import preprocess_input, decode_predictions\n",
        "import numpy as np\n",
        "\n",
        "model = ResNet50(weights='imagenet')\n",
        "\n",
        "img_path = '/content/drive/MyDrive/Recogniton_face/Train_Ai_Image-Resized/Train_Ai_Image-Resized/test/chim.jpg'\n",
        "img = image.load_img(img_path, target_size=(224, 224))\n",
        "x = image.img_to_array(img)\n",
        "x = np.expand_dims(x, axis=0)\n",
        "x = preprocess_input(x)\n",
        "\n",
        "preds = model.predict(x)\n",
        "# decode the results into a list of tuples (class, description, probability)\n",
        "# (one such list for each sample in the batch)\n",
        "print('Predicted:', decode_predictions(preds, top=3)[0])"
      ],
      "metadata": {
        "id": "gRKYvm_Fb7Ye"
      },
      "execution_count": null,
      "outputs": []
    },
    {
      "cell_type": "code",
      "source": [
        "from tensorflow.keras.applications.resnet50 import ResNet50\n",
        "from tensorflow.keras.preprocessing import image\n",
        "from tensorflow.keras.applications.resnet50 import preprocess_input, decode_predictions\n",
        "import numpy as np\n",
        "\n",
        "model = ResNet50(weights='imagenet')\n",
        "\n",
        "img_path = '/content/drive/MyDrive/Recognition_Food/train/Banh xeo/BX (307).jpg'\n",
        "img = image.load_img(img_path, target_size=(224, 224))\n",
        "x = image.img_to_array(img)\n",
        "x = np.expand_dims(x, axis=0)\n",
        "x = preprocess_input(x)\n",
        "\n",
        "preds = model.predict(x)\n",
        "# decode the results into a list of tuples (class, description, probability)\n",
        "# (one such list for each sample in the batch)\n",
        "print('Predicted:', decode_predictions(preds, top=3)[0])"
      ],
      "metadata": {
        "id": "4xa4_FA0bam9",
        "outputId": "81b2685d-514b-42e1-9c9e-4cc51977ee48",
        "colab": {
          "base_uri": "https://localhost:8080/"
        }
      },
      "execution_count": 44,
      "outputs": [
        {
          "output_type": "stream",
          "name": "stdout",
          "text": [
            "1/1 [==============================] - 1s 1s/step\n",
            "Predicted: [('n07579787', 'plate', 0.6980873), ('n07880968', 'burrito', 0.16744733), ('n04263257', 'soup_bowl', 0.031887557)]\n"
          ]
        }
      ]
    }
  ]
}