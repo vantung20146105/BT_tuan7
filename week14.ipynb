{
  "nbformat": 4,
  "nbformat_minor": 0,
  "metadata": {
    "colab": {
      "provenance": [],
      "authorship_tag": "ABX9TyPx48u6NKz2SkSqe0rjpQnI",
      "include_colab_link": true
    },
    "kernelspec": {
      "name": "python3",
      "display_name": "Python 3"
    },
    "language_info": {
      "name": "python"
    }
  },
  "cells": [
    {
      "cell_type": "markdown",
      "metadata": {
        "id": "view-in-github",
        "colab_type": "text"
      },
      "source": [
        "<a href=\"https://colab.research.google.com/github/vantung20146105/BT_tuan7/blob/main/week14.ipynb\" target=\"_parent\"><img src=\"https://colab.research.google.com/assets/colab-badge.svg\" alt=\"Open In Colab\"/></a>"
      ]
    },
    {
      "cell_type": "code",
      "execution_count": 2,
      "metadata": {
        "colab": {
          "base_uri": "https://localhost:8080/"
        },
        "id": "EyW_rUxF5Kcz",
        "outputId": "3e44a364-774c-4075-d570-3703b5c2a8d6"
      },
      "outputs": [
        {
          "output_type": "stream",
          "name": "stdout",
          "text": [
            "Looking in indexes: https://pypi.org/simple, https://us-python.pkg.dev/colab-wheels/public/simple/\n",
            "Collecting youtube_search\n",
            "  Downloading youtube_search-2.1.2-py3-none-any.whl (3.4 kB)\n",
            "Requirement already satisfied: requests in /usr/local/lib/python3.9/dist-packages (from youtube_search) (2.27.1)\n",
            "Requirement already satisfied: urllib3<1.27,>=1.21.1 in /usr/local/lib/python3.9/dist-packages (from requests->youtube_search) (1.26.15)\n",
            "Requirement already satisfied: idna<4,>=2.5 in /usr/local/lib/python3.9/dist-packages (from requests->youtube_search) (3.4)\n",
            "Requirement already satisfied: charset-normalizer~=2.0.0 in /usr/local/lib/python3.9/dist-packages (from requests->youtube_search) (2.0.12)\n",
            "Requirement already satisfied: certifi>=2017.4.17 in /usr/local/lib/python3.9/dist-packages (from requests->youtube_search) (2022.12.7)\n",
            "Installing collected packages: youtube_search\n",
            "Successfully installed youtube_search-2.1.2\n"
          ]
        }
      ],
      "source": [
        "\n",
        "pip install youtube_search\n"
      ]
    },
    {
      "cell_type": "code",
      "source": [
        "\n",
        "from youtube_search import YoutubeSearch\n",
        "import webbrowser\n",
        "mysong =input('nhap ten bai hat ')\n",
        "result= YoutubeSearch(mysong,max_results=10).to_dict()\n",
        "print(result) \n",
        "print(result[0]['url_suffix'])\n",
        "print(result[1]['url_suffix'])\n",
        "print(result[2]['url_suffix'])\n",
        "print(result[3]['url_suffix'])\n",
        "print(result[4]['url_suffix'])\n",
        "print(result[5]['url_suffix'])\n",
        "print(result[6]['url_suffix'])\n",
        "print(result[7]['url_suffix'])\n",
        "print(result[8]['url_suffix'])\n",
        "print(result[9]['url_suffix'])\n",
        "url='http://www.youtube.com'+result[0]['url_suffix']\n",
        "url='http://www.youtube.com'+result[1]['url_suffix']\n",
        "url='http://www.youtube.com'+result[2]['url_suffix']\n",
        "url='http://www.youtube.com'+result[3]['url_suffix']\n",
        "url='http://www.youtube.com'+result[4]['url_suffix']\n",
        "url='http://www.youtube.com'+result[5]['url_suffix']\n",
        "url='http://www.youtube.com'+result[6]['url_suffix']\n",
        "url='http://www.youtube.com'+result[7]['url_suffix']\n",
        "url='http://www.youtube.com'+result[8]['url_suffix']\n",
        "url='http://www.youtube.com'+result[9]['url_suffix']\n",
        "\n",
        "\n",
        "print(url)"
      ],
      "metadata": {
        "colab": {
          "base_uri": "https://localhost:8080/"
        },
        "id": "Twenj9D29X8T",
        "outputId": "63ade97c-497b-4dad-a619-c2d1e779f85f"
      },
      "execution_count": 7,
      "outputs": [
        {
          "output_type": "stream",
          "name": "stdout",
          "text": [
            "nhap ten bai hat cô đơn dành cho ai\n",
            "[{'id': '0I4bDR9vu5Q', 'thumbnails': ['https://i.ytimg.com/vi/0I4bDR9vu5Q/hq720.jpg?sqp=-oaymwEjCOgCEMoBSFryq4qpAxUIARUAAAAAGAElAADIQj0AgKJDeAE=&rs=AOn4CLC0I7AsSFXjQ88Opp8iyHB9tSW-dQ', 'https://i.ytimg.com/vi/0I4bDR9vu5Q/hq720.jpg?sqp=-oaymwEXCNAFEJQDSFryq4qpAwkIARUAAIhCGAE=&rs=AOn4CLA3yeWmTcfqtJgK5SwTOxIGe57vtg'], 'title': 'CÔ ĐƠN DÀNH CHO AI | LEE KEN x NAL | OFFICIAL MUSIC VIDEO', 'long_desc': None, 'channel': 'Lee Ken PT', 'duration': '5:14', 'views': '77,080,184 views', 'publish_time': '2 years ago', 'url_suffix': '/watch?v=0I4bDR9vu5Q&pp=ygUWY8O0IMSRxqFuIGTDoG5oIGNobyBhaQ%3D%3D'}, {'id': '0-N3smdam4s', 'thumbnails': ['https://i.ytimg.com/vi/0-N3smdam4s/hq720.jpg?sqp=-oaymwEjCOgCEMoBSFryq4qpAxUIARUAAAAAGAElAADIQj0AgKJDeAE=&rs=AOn4CLAsCFRuxpkxBR2ornu46ycYWY9zEg', 'https://i.ytimg.com/vi/0-N3smdam4s/hq720.jpg?sqp=-oaymwEXCNAFEJQDSFryq4qpAwkIARUAAIhCGAE=&rs=AOn4CLB1nEk44CslyewilEkUJsmcFLakvw'], 'title': '♬Lofi Lyrics/ Cô đơn dành cho ai - Lee Ken x Nal', 'long_desc': None, 'channel': 'Kho Nhạc Lofi', 'duration': '3:33', 'views': '31,886,739 views', 'publish_time': '2 years ago', 'url_suffix': '/watch?v=0-N3smdam4s&pp=ygUWY8O0IMSRxqFuIGTDoG5oIGNobyBhaQ%3D%3D'}, {'id': 'Nm3PCC-e49k', 'thumbnails': ['https://i.ytimg.com/vi/Nm3PCC-e49k/hq720.jpg?sqp=-oaymwE9COgCEMoBSFryq4qpAy8IARUAAAAAGAElAADIQj0AgKJDeAHwAQH4Af4JgALQBYoCDAgAEAEYZSBNKGIwDw==&rs=AOn4CLCg8zrzeFkZe2jo8EPRbF9O849oaQ', 'https://i.ytimg.com/vi/Nm3PCC-e49k/hq720.jpg?sqp=-oaymwExCNAFEJQDSFryq4qpAyMIARUAAIhCGAHwAQH4Af4JgALQBYoCDAgAEAEYZSBNKGIwDw==&rs=AOn4CLDMn1n0T-RggRNp4JUCpbONaNBehw'], 'title': 'Cô Đơn Dành Cho Ai - TD Remix | Exclusive Music & Lee Ken x Nal - Nhạc Hot Tik Tok - Audio Lyrics', 'long_desc': None, 'channel': 'Exclusive Music', 'duration': '4:27', 'views': '3,330 views', 'publish_time': '6 days ago', 'url_suffix': '/watch?v=Nm3PCC-e49k&pp=ygUWY8O0IMSRxqFuIGTDoG5oIGNobyBhaQ%3D%3D'}, {'id': 'qf_qYkB_3vE', 'thumbnails': ['https://i.ytimg.com/vi/qf_qYkB_3vE/hq720.jpg?sqp=-oaymwEjCOgCEMoBSFryq4qpAxUIARUAAAAAGAElAADIQj0AgKJDeAE=&rs=AOn4CLAUqXX8sdEI3OLsxJIo7PkjbNEjfQ', 'https://i.ytimg.com/vi/qf_qYkB_3vE/hq720.jpg?sqp=-oaymwEXCNAFEJQDSFryq4qpAwkIARUAAIhCGAE=&rs=AOn4CLDubLpx91v8g0dQwWZ6uiqZjUIy8Q'], 'title': 'Cô Đơn Dành Cho Ai (TD Remix)', 'long_desc': None, 'channel': 'Exclusive Music - Topic', 'duration': '4:14', 'views': '833 views', 'publish_time': 0, 'url_suffix': '/watch?v=qf_qYkB_3vE&pp=ygUWY8O0IMSRxqFuIGTDoG5oIGNobyBhaQ%3D%3D'}, {'id': '6LV_IzqwxVQ', 'thumbnails': ['https://i.ytimg.com/vi/6LV_IzqwxVQ/hq720.jpg?sqp=-oaymwEjCOgCEMoBSFryq4qpAxUIARUAAAAAGAElAADIQj0AgKJDeAE=&rs=AOn4CLBz-EQKD0Vqev__xzL2ccuDIbzA-w', 'https://i.ytimg.com/vi/6LV_IzqwxVQ/hq720.jpg?sqp=-oaymwEXCNAFEJQDSFryq4qpAwkIARUAAIhCGAE=&rs=AOn4CLDJP-8ITSfyAazhRULHAf1PcXo2mw'], 'title': 'CÔ ĐƠN DÀNH CHO AI', 'long_desc': None, 'channel': 'Various Artists - Topic', 'duration': '3:52', 'views': '150,282 views', 'publish_time': 0, 'url_suffix': '/watch?v=6LV_IzqwxVQ&pp=ygUWY8O0IMSRxqFuIGTDoG5oIGNobyBhaQ%3D%3D'}, {'id': 'lz6uCMjxbtI', 'thumbnails': ['https://i.ytimg.com/vi/lz6uCMjxbtI/hq720.jpg?sqp=-oaymwEjCOgCEMoBSFryq4qpAxUIARUAAAAAGAElAADIQj0AgKJDeAE=&rs=AOn4CLD1ZLEMwUrCU3Feo8HFgo18ASbfbA', 'https://i.ytimg.com/vi/lz6uCMjxbtI/hq720.jpg?sqp=-oaymwEXCNAFEJQDSFryq4qpAwkIARUAAIhCGAE=&rs=AOn4CLBYCCMHcUaWNe-55R-V1iDjTma7sw'], 'title': 'CÔ ĐƠN DÀNH CHO AI | LEE KEN x NAL | OFFICIAL MUSIC VIDEO LYRICS', 'long_desc': None, 'channel': 'Lee Ken PT', 'duration': '3:52', 'views': '1,876,354 views', 'publish_time': '2 years ago', 'url_suffix': '/watch?v=lz6uCMjxbtI&pp=ygUWY8O0IMSRxqFuIGTDoG5oIGNobyBhaQ%3D%3D'}, {'id': 'tjGJjFE0fxE', 'thumbnails': ['https://i.ytimg.com/vi/tjGJjFE0fxE/hq720.jpg?sqp=-oaymwEjCOgCEMoBSFryq4qpAxUIARUAAAAAGAElAADIQj0AgKJDeAE=&rs=AOn4CLC3_RjDhaGe2W5henHh3iFMkHWeVw', 'https://i.ytimg.com/vi/tjGJjFE0fxE/hq720.jpg?sqp=-oaymwEXCNAFEJQDSFryq4qpAwkIARUAAIhCGAE=&rs=AOn4CLAPFG8U3Uh05yv-APGZ1e65FdeRxw'], 'title': 'Cô Đơn Dành Cho Ai (Orinn Remix) - NAL x LEE KEN | Nhạc Trẻ Remix Căng Cực Gây Nghiện Nhất 2021', 'long_desc': None, 'channel': 'Orinn Mix', 'duration': '5:06', 'views': '36,796,141 views', 'publish_time': '2 years ago', 'url_suffix': '/watch?v=tjGJjFE0fxE&pp=ygUWY8O0IMSRxqFuIGTDoG5oIGNobyBhaQ%3D%3D'}, {'id': 'Tl0AtRLKPJo', 'thumbnails': ['https://i.ytimg.com/vi/Tl0AtRLKPJo/hqdefault.jpg?sqp=-oaymwEjCOADEI4CSFryq4qpAxUIARUAAAAAGAElAADIQj0AgKJDeAE=&rs=AOn4CLAbTNsx7BoDiiFoFBQn_iqPNRcL8A'], 'title': 'CÔ ĐƠN DÀNH CHO AI | LEE KEN x NAL | COVER ÚT NHỊ MINO', 'long_desc': None, 'channel': 'Út Mino Official', 'duration': '3:30', 'views': '4,448,351 views', 'publish_time': '1 year ago', 'url_suffix': '/watch?v=Tl0AtRLKPJo&pp=ygUWY8O0IMSRxqFuIGTDoG5oIGNobyBhaQ%3D%3D'}, {'id': 'woGb86ve_ss', 'thumbnails': ['https://i.ytimg.com/vi/woGb86ve_ss/hq720.jpg?sqp=-oaymwEjCOgCEMoBSFryq4qpAxUIARUAAAAAGAElAADIQj0AgKJDeAE=&rs=AOn4CLBxC0HCPXKmRO9xJw4ULj5TkihKkQ', 'https://i.ytimg.com/vi/woGb86ve_ss/hq720.jpg?sqp=-oaymwEXCNAFEJQDSFryq4qpAwkIARUAAIhCGAE=&rs=AOn4CLAjcz7bJg1eA4gVgDqBobCPjPnRmg'], 'title': 'CÔ ĐƠN DÀNH CHO AI - LEE KEN x NAL | TỐNG THÀNH TOÀN x DAMI COVER', 'long_desc': None, 'channel': 'Xóm Văn Nghệ', 'duration': '3:48', 'views': '3,401,555 views', 'publish_time': '1 year ago', 'url_suffix': '/watch?v=woGb86ve_ss&pp=ygUWY8O0IMSRxqFuIGTDoG5oIGNobyBhaQ%3D%3D'}, {'id': 'qSEh4Sxq8zs', 'thumbnails': ['https://i.ytimg.com/vi/qSEh4Sxq8zs/hq720.jpg?sqp=-oaymwEjCOgCEMoBSFryq4qpAxUIARUAAAAAGAElAADIQj0AgKJDeAE=&rs=AOn4CLAsyChnijBXDXAJMC0OP7lIF1YN-w', 'https://i.ytimg.com/vi/qSEh4Sxq8zs/hq720.jpg?sqp=-oaymwEXCNAFEJQDSFryq4qpAwkIARUAAIhCGAE=&rs=AOn4CLDh9Ur4OZDuWX0IIEXuLZ0ZLekFoA'], 'title': 'Cô Đơn Dành Cho Ai (Cover) - Kiều Thơ | LEE KEN x NAL', 'long_desc': None, 'channel': 'Kiều Thơ Mellow', 'duration': '3:50', 'views': '2,896,298 views', 'publish_time': '1 year ago', 'url_suffix': '/watch?v=qSEh4Sxq8zs&pp=ygUWY8O0IMSRxqFuIGTDoG5oIGNobyBhaQ%3D%3D'}]\n",
            "/watch?v=0I4bDR9vu5Q&pp=ygUWY8O0IMSRxqFuIGTDoG5oIGNobyBhaQ%3D%3D\n",
            "/watch?v=0-N3smdam4s&pp=ygUWY8O0IMSRxqFuIGTDoG5oIGNobyBhaQ%3D%3D\n",
            "/watch?v=Nm3PCC-e49k&pp=ygUWY8O0IMSRxqFuIGTDoG5oIGNobyBhaQ%3D%3D\n",
            "/watch?v=qf_qYkB_3vE&pp=ygUWY8O0IMSRxqFuIGTDoG5oIGNobyBhaQ%3D%3D\n",
            "/watch?v=6LV_IzqwxVQ&pp=ygUWY8O0IMSRxqFuIGTDoG5oIGNobyBhaQ%3D%3D\n",
            "/watch?v=lz6uCMjxbtI&pp=ygUWY8O0IMSRxqFuIGTDoG5oIGNobyBhaQ%3D%3D\n",
            "/watch?v=tjGJjFE0fxE&pp=ygUWY8O0IMSRxqFuIGTDoG5oIGNobyBhaQ%3D%3D\n",
            "/watch?v=Tl0AtRLKPJo&pp=ygUWY8O0IMSRxqFuIGTDoG5oIGNobyBhaQ%3D%3D\n",
            "/watch?v=woGb86ve_ss&pp=ygUWY8O0IMSRxqFuIGTDoG5oIGNobyBhaQ%3D%3D\n",
            "/watch?v=qSEh4Sxq8zs&pp=ygUWY8O0IMSRxqFuIGTDoG5oIGNobyBhaQ%3D%3D\n",
            "http://www.youtube.com/watch?v=qSEh4Sxq8zs&pp=ygUWY8O0IMSRxqFuIGTDoG5oIGNobyBhaQ%3D%3D\n"
          ]
        }
      ]
    },
    {
      "cell_type": "code",
      "source": [
        "\n",
        "# Kết nối với google drive\n",
        "from google.colab import drive\n",
        "drive.mount('/content/drive')"
      ],
      "metadata": {
        "colab": {
          "base_uri": "https://localhost:8080/"
        },
        "id": "_vq-UBXsE-Km",
        "outputId": "1900af3b-61a8-4028-e783-b3fabbcca141"
      },
      "execution_count": 12,
      "outputs": [
        {
          "output_type": "stream",
          "name": "stdout",
          "text": [
            "Mounted at /content/drive\n"
          ]
        }
      ]
    },
    {
      "cell_type": "code",
      "source": [
        "\n",
        "pip install openpyxl"
      ],
      "metadata": {
        "colab": {
          "base_uri": "https://localhost:8080/"
        },
        "id": "gV-YdtMk9vjl",
        "outputId": "f9913969-d589-460b-a750-9ee2ac5c4404"
      },
      "execution_count": 8,
      "outputs": [
        {
          "output_type": "stream",
          "name": "stdout",
          "text": [
            "Looking in indexes: https://pypi.org/simple, https://us-python.pkg.dev/colab-wheels/public/simple/\n",
            "Requirement already satisfied: openpyxl in /usr/local/lib/python3.9/dist-packages (3.0.10)\n",
            "Requirement already satisfied: et-xmlfile in /usr/local/lib/python3.9/dist-packages (from openpyxl) (1.1.0)\n"
          ]
        }
      ]
    },
    {
      "cell_type": "code",
      "source": [
        "from openpyxl import Workbook\n",
        "data=Workbook()\n",
        "sheet=data.active\n",
        "for i in range(10):\n",
        "  print(result[i]['title'])\n",
        "  print(result[i]['url_suffix'])\n",
        "url='http://www.youtube.com'+result[i]['url_suffix']  \n",
        "print(url)\n",
        "sheet['A'+str(i+1)]=i+1\n",
        "sheet['B'+str(i+1)]=result[i]['title']\n",
        "sheet['C'+str(i+1)]=result[i]['url_suffix']\n",
        "sheet['D'+str(i+1)]=result[i]['views']\n",
        "data.save('baihat.xlxs')\n"
      ],
      "metadata": {
        "colab": {
          "base_uri": "https://localhost:8080/"
        },
        "id": "vDW3m12d-k_t",
        "outputId": "6e474f52-680a-480e-9292-b099f10387ca"
      },
      "execution_count": 11,
      "outputs": [
        {
          "output_type": "stream",
          "name": "stdout",
          "text": [
            "CÔ ĐƠN DÀNH CHO AI | LEE KEN x NAL | OFFICIAL MUSIC VIDEO\n",
            "/watch?v=0I4bDR9vu5Q&pp=ygUWY8O0IMSRxqFuIGTDoG5oIGNobyBhaQ%3D%3D\n",
            "♬Lofi Lyrics/ Cô đơn dành cho ai - Lee Ken x Nal\n",
            "/watch?v=0-N3smdam4s&pp=ygUWY8O0IMSRxqFuIGTDoG5oIGNobyBhaQ%3D%3D\n",
            "Cô Đơn Dành Cho Ai - TD Remix | Exclusive Music & Lee Ken x Nal - Nhạc Hot Tik Tok - Audio Lyrics\n",
            "/watch?v=Nm3PCC-e49k&pp=ygUWY8O0IMSRxqFuIGTDoG5oIGNobyBhaQ%3D%3D\n",
            "Cô Đơn Dành Cho Ai (TD Remix)\n",
            "/watch?v=qf_qYkB_3vE&pp=ygUWY8O0IMSRxqFuIGTDoG5oIGNobyBhaQ%3D%3D\n",
            "CÔ ĐƠN DÀNH CHO AI\n",
            "/watch?v=6LV_IzqwxVQ&pp=ygUWY8O0IMSRxqFuIGTDoG5oIGNobyBhaQ%3D%3D\n",
            "CÔ ĐƠN DÀNH CHO AI | LEE KEN x NAL | OFFICIAL MUSIC VIDEO LYRICS\n",
            "/watch?v=lz6uCMjxbtI&pp=ygUWY8O0IMSRxqFuIGTDoG5oIGNobyBhaQ%3D%3D\n",
            "Cô Đơn Dành Cho Ai (Orinn Remix) - NAL x LEE KEN | Nhạc Trẻ Remix Căng Cực Gây Nghiện Nhất 2021\n",
            "/watch?v=tjGJjFE0fxE&pp=ygUWY8O0IMSRxqFuIGTDoG5oIGNobyBhaQ%3D%3D\n",
            "CÔ ĐƠN DÀNH CHO AI | LEE KEN x NAL | COVER ÚT NHỊ MINO\n",
            "/watch?v=Tl0AtRLKPJo&pp=ygUWY8O0IMSRxqFuIGTDoG5oIGNobyBhaQ%3D%3D\n",
            "CÔ ĐƠN DÀNH CHO AI - LEE KEN x NAL | TỐNG THÀNH TOÀN x DAMI COVER\n",
            "/watch?v=woGb86ve_ss&pp=ygUWY8O0IMSRxqFuIGTDoG5oIGNobyBhaQ%3D%3D\n",
            "Cô Đơn Dành Cho Ai (Cover) - Kiều Thơ | LEE KEN x NAL\n",
            "/watch?v=qSEh4Sxq8zs&pp=ygUWY8O0IMSRxqFuIGTDoG5oIGNobyBhaQ%3D%3D\n",
            "http://www.youtube.com/watch?v=qSEh4Sxq8zs&pp=ygUWY8O0IMSRxqFuIGTDoG5oIGNobyBhaQ%3D%3D\n"
          ]
        }
      ]
    },
    {
      "cell_type": "code",
      "source": [
        "\n",
        "!pip install SpeechRecognition pydub\n",
        "\n"
      ],
      "metadata": {
        "colab": {
          "base_uri": "https://localhost:8080/"
        },
        "id": "JGMnNcyWDaLc",
        "outputId": "a57ca7c5-4d7d-4236-a6e4-900eff76ab56"
      },
      "execution_count": 22,
      "outputs": [
        {
          "output_type": "stream",
          "name": "stdout",
          "text": [
            "Looking in indexes: https://pypi.org/simple, https://us-python.pkg.dev/colab-wheels/public/simple/\n",
            "Collecting SpeechRecognition\n",
            "  Downloading SpeechRecognition-3.10.0-py2.py3-none-any.whl (32.8 MB)\n",
            "\u001b[2K     \u001b[90m━━━━━━━━━━━━━━━━━━━━━━━━━━━━━━━━━━━━━━━━\u001b[0m \u001b[32m32.8/32.8 MB\u001b[0m \u001b[31m38.5 MB/s\u001b[0m eta \u001b[36m0:00:00\u001b[0m\n",
            "\u001b[?25hCollecting pydub\n",
            "  Downloading pydub-0.25.1-py2.py3-none-any.whl (32 kB)\n",
            "Requirement already satisfied: requests>=2.26.0 in /usr/local/lib/python3.9/dist-packages (from SpeechRecognition) (2.27.1)\n",
            "Requirement already satisfied: idna<4,>=2.5 in /usr/local/lib/python3.9/dist-packages (from requests>=2.26.0->SpeechRecognition) (3.4)\n",
            "Requirement already satisfied: charset-normalizer~=2.0.0 in /usr/local/lib/python3.9/dist-packages (from requests>=2.26.0->SpeechRecognition) (2.0.12)\n",
            "Requirement already satisfied: certifi>=2017.4.17 in /usr/local/lib/python3.9/dist-packages (from requests>=2.26.0->SpeechRecognition) (2022.12.7)\n",
            "Requirement already satisfied: urllib3<1.27,>=1.21.1 in /usr/local/lib/python3.9/dist-packages (from requests>=2.26.0->SpeechRecognition) (1.26.15)\n",
            "Installing collected packages: pydub, SpeechRecognition\n",
            "Successfully installed SpeechRecognition-3.10.0 pydub-0.25.1\n"
          ]
        }
      ]
    },
    {
      "cell_type": "code",
      "source": [
        "file='/content/drive/MyDrive/AI week 14/File âm thanh/1. Nổi gió rồi - OST.wav'\n",
        "import speech_recognition as sr\n",
        "r = sr.Recognizer()\n",
        "\n",
        "with sr.AudioFile(file) as source:\n",
        "    audio_data = r.record(source)\n",
        "text1 = r.recognize_google(audio_data, language='zh_tw')\n",
        "\n",
        "print(text1)\n"
      ],
      "metadata": {
        "colab": {
          "base_uri": "https://localhost:8080/"
        },
        "id": "zLcMdneNIrBL",
        "outputId": "f1c04832-f85a-43e4-9485-32c6724b392a"
      },
      "execution_count": 38,
      "outputs": [
        {
          "output_type": "stream",
          "name": "stdout",
          "text": [
            "珠晖区\n"
          ]
        }
      ]
    },
    {
      "cell_type": "code",
      "source": [
        "import speech_recognition as sr\n",
        "r = sr.Recognizer()\n",
        "with sr.AudioFile('/content/drive/MyDrive/AI week 14/File âm thanh/3. Nhạc Thái Lan.wav') as source:\n",
        "  audio1= r.record(source,duration=4)\n",
        "  audio2= r.record(source,offset=4,duration=10)\n",
        "  text1 =r.recognize_google(audio1,language='vi_VI')\n",
        "  text2 = r.recognize_google(audio2, language='zh_tw')\n",
        "  print( text1)\n",
        "  print(text2)"
      ],
      "metadata": {
        "colab": {
          "base_uri": "https://localhost:8080/"
        },
        "id": "I-ualMRrLDcJ",
        "outputId": "1641882f-4453-49b7-cc50-2c075ace7451"
      },
      "execution_count": 45,
      "outputs": [
        {
          "output_type": "stream",
          "name": "stdout",
          "text": [
            "bán gì chạy nhất\n",
            "I am a similar Image to package on the WeChat\n"
          ]
        }
      ]
    },
    {
      "cell_type": "code",
      "source": [
        "pip install gTTS\n"
      ],
      "metadata": {
        "colab": {
          "base_uri": "https://localhost:8080/"
        },
        "id": "CCNZS9muP8Il",
        "outputId": "f3729e0c-3c32-427c-fc5f-64d311c24c9a"
      },
      "execution_count": 46,
      "outputs": [
        {
          "output_type": "stream",
          "name": "stdout",
          "text": [
            "Looking in indexes: https://pypi.org/simple, https://us-python.pkg.dev/colab-wheels/public/simple/\n",
            "Collecting gTTS\n",
            "  Downloading gTTS-2.3.1-py3-none-any.whl (28 kB)\n",
            "Requirement already satisfied: click<8.2,>=7.1 in /usr/local/lib/python3.9/dist-packages (from gTTS) (8.1.3)\n",
            "Requirement already satisfied: requests<3,>=2.27 in /usr/local/lib/python3.9/dist-packages (from gTTS) (2.27.1)\n",
            "Requirement already satisfied: idna<4,>=2.5 in /usr/local/lib/python3.9/dist-packages (from requests<3,>=2.27->gTTS) (3.4)\n",
            "Requirement already satisfied: certifi>=2017.4.17 in /usr/local/lib/python3.9/dist-packages (from requests<3,>=2.27->gTTS) (2022.12.7)\n",
            "Requirement already satisfied: urllib3<1.27,>=1.21.1 in /usr/local/lib/python3.9/dist-packages (from requests<3,>=2.27->gTTS) (1.26.15)\n",
            "Requirement already satisfied: charset-normalizer~=2.0.0 in /usr/local/lib/python3.9/dist-packages (from requests<3,>=2.27->gTTS) (2.0.12)\n",
            "Installing collected packages: gTTS\n",
            "Successfully installed gTTS-2.3.1\n"
          ]
        }
      ]
    },
    {
      "cell_type": "code",
      "source": [
        "pip install playsound"
      ],
      "metadata": {
        "colab": {
          "base_uri": "https://localhost:8080/"
        },
        "id": "NJLO-8nSR6h7",
        "outputId": "2b40d44d-c5c0-4df7-8b0a-0cc7b15d00ef"
      },
      "execution_count": 50,
      "outputs": [
        {
          "output_type": "stream",
          "name": "stdout",
          "text": [
            "Looking in indexes: https://pypi.org/simple, https://us-python.pkg.dev/colab-wheels/public/simple/\n",
            "Collecting playsound\n",
            "  Downloading playsound-1.3.0.tar.gz (7.7 kB)\n",
            "  Preparing metadata (setup.py) ... \u001b[?25l\u001b[?25hdone\n",
            "Building wheels for collected packages: playsound\n",
            "  Building wheel for playsound (setup.py) ... \u001b[?25l\u001b[?25hdone\n",
            "  Created wheel for playsound: filename=playsound-1.3.0-py3-none-any.whl size=7035 sha256=b5553f9ae7b445f1f99b41a2ed137d044d313ee913a6cc8bd944bdfd2f6273bd\n",
            "  Stored in directory: /root/.cache/pip/wheels/ba/39/54/c8f7ff9a88a644d3c58b4dec802d90b79a2e0fb2a6b884bf82\n",
            "Successfully built playsound\n",
            "Installing collected packages: playsound\n",
            "Successfully installed playsound-1.3.0\n"
          ]
        }
      ]
    },
    {
      "cell_type": "code",
      "source": [
        "from playsound import playsound\n",
        "from gtts import gTTS\n",
        "import os\n",
        "A='In a game of diplomatic cat and mouse, Russia and the west are coming up with similar if sometimes competing ideas for how Ukraine’s badly needed grain can be given safe passage through the Black Sea and on to the world markets. They are also competing to win the battle for world opinion if the plans collapse.'\n",
        "speak = gTTS(text=A,lang='ko',slow=False)\n",
        "speak.save('baihat.mp3')\n",
        "#playsound('/content/drive/MyDrive/AI week 14/5 Music/English.mp3')\n",
        "#os.remove('/content/drive/MyDrive/AI week 14/5 Music/English.mp3')\n"
      ],
      "metadata": {
        "id": "eQEBWWkyQHrh"
      },
      "execution_count": 59,
      "outputs": []
    },
    {
      "cell_type": "code",
      "source": [
        "pip install googletrans==4.0.0rc1\n"
      ],
      "metadata": {
        "colab": {
          "base_uri": "https://localhost:8080/",
          "height": 956
        },
        "id": "0KmxLcVCT4UM",
        "outputId": "49e75ae8-d850-4c83-f631-aecadf64e761"
      },
      "execution_count": 67,
      "outputs": [
        {
          "output_type": "stream",
          "name": "stdout",
          "text": [
            "Looking in indexes: https://pypi.org/simple, https://us-python.pkg.dev/colab-wheels/public/simple/\n",
            "Collecting googletrans==4.0.0rc1\n",
            "  Downloading googletrans-4.0.0rc1.tar.gz (20 kB)\n",
            "  Preparing metadata (setup.py) ... \u001b[?25l\u001b[?25hdone\n",
            "Collecting httpx==0.13.3\n",
            "  Downloading httpx-0.13.3-py3-none-any.whl (55 kB)\n",
            "\u001b[2K     \u001b[90m━━━━━━━━━━━━━━━━━━━━━━━━━━━━━━━━━━━━━━━━\u001b[0m \u001b[32m55.1/55.1 kB\u001b[0m \u001b[31m7.3 MB/s\u001b[0m eta \u001b[36m0:00:00\u001b[0m\n",
            "\u001b[?25hCollecting httpcore==0.9.*\n",
            "  Downloading httpcore-0.9.1-py3-none-any.whl (42 kB)\n",
            "\u001b[2K     \u001b[90m━━━━━━━━━━━━━━━━━━━━━━━━━━━━━━━━━━━━━━━━\u001b[0m \u001b[32m42.6/42.6 kB\u001b[0m \u001b[31m4.3 MB/s\u001b[0m eta \u001b[36m0:00:00\u001b[0m\n",
            "\u001b[?25hCollecting chardet==3.*\n",
            "  Downloading chardet-3.0.4-py2.py3-none-any.whl (133 kB)\n",
            "\u001b[2K     \u001b[90m━━━━━━━━━━━━━━━━━━━━━━━━━━━━━━━━━━━━━━━\u001b[0m \u001b[32m133.4/133.4 kB\u001b[0m \u001b[31m9.0 MB/s\u001b[0m eta \u001b[36m0:00:00\u001b[0m\n",
            "\u001b[?25hRequirement already satisfied: sniffio in /usr/local/lib/python3.9/dist-packages (from httpx==0.13.3->googletrans==4.0.0rc1) (1.3.0)\n",
            "Collecting rfc3986<2,>=1.3\n",
            "  Downloading rfc3986-1.5.0-py2.py3-none-any.whl (31 kB)\n",
            "Collecting hstspreload\n",
            "  Downloading hstspreload-2023.1.1-py3-none-any.whl (1.5 MB)\n",
            "\u001b[2K     \u001b[90m━━━━━━━━━━━━━━━━━━━━━━━━━━━━━━━━━━━━━━━━\u001b[0m \u001b[32m1.5/1.5 MB\u001b[0m \u001b[31m86.7 MB/s\u001b[0m eta \u001b[36m0:00:00\u001b[0m\n",
            "\u001b[?25hCollecting idna==2.*\n",
            "  Downloading idna-2.10-py2.py3-none-any.whl (58 kB)\n",
            "\u001b[2K     \u001b[90m━━━━━━━━━━━━━━━━━━━━━━━━━━━━━━━━━━━━━━━━\u001b[0m \u001b[32m58.8/58.8 kB\u001b[0m \u001b[31m6.6 MB/s\u001b[0m eta \u001b[36m0:00:00\u001b[0m\n",
            "\u001b[?25hRequirement already satisfied: certifi in /usr/local/lib/python3.9/dist-packages (from httpx==0.13.3->googletrans==4.0.0rc1) (2022.12.7)\n",
            "Collecting h11<0.10,>=0.8\n",
            "  Downloading h11-0.9.0-py2.py3-none-any.whl (53 kB)\n",
            "\u001b[2K     \u001b[90m━━━━━━━━━━━━━━━━━━━━━━━━━━━━━━━━━━━━━━━━\u001b[0m \u001b[32m53.6/53.6 kB\u001b[0m \u001b[31m6.8 MB/s\u001b[0m eta \u001b[36m0:00:00\u001b[0m\n",
            "\u001b[?25hCollecting h2==3.*\n",
            "  Downloading h2-3.2.0-py2.py3-none-any.whl (65 kB)\n",
            "\u001b[2K     \u001b[90m━━━━━━━━━━━━━━━━━━━━━━━━━━━━━━━━━━━━━━━━\u001b[0m \u001b[32m65.0/65.0 kB\u001b[0m \u001b[31m6.0 MB/s\u001b[0m eta \u001b[36m0:00:00\u001b[0m\n",
            "\u001b[?25hCollecting hpack<4,>=3.0\n",
            "  Downloading hpack-3.0.0-py2.py3-none-any.whl (38 kB)\n",
            "Collecting hyperframe<6,>=5.2.0\n",
            "  Downloading hyperframe-5.2.0-py2.py3-none-any.whl (12 kB)\n",
            "Building wheels for collected packages: googletrans\n",
            "  Building wheel for googletrans (setup.py) ... \u001b[?25l\u001b[?25hdone\n",
            "  Created wheel for googletrans: filename=googletrans-4.0.0rc1-py3-none-any.whl size=17413 sha256=a6a37de5f0ec8e1e68148f3c6441d989dac1847569d040fdaa9bd6e60aa2650a\n",
            "  Stored in directory: /root/.cache/pip/wheels/60/b3/27/d8aff3e2d5c2d0d97a117cdf0d5f13cd121e2c2b5fb49b55a0\n",
            "Successfully built googletrans\n",
            "Installing collected packages: rfc3986, hyperframe, hpack, h11, chardet, idna, hstspreload, h2, httpcore, httpx, googletrans\n",
            "  Attempting uninstall: chardet\n",
            "    Found existing installation: chardet 4.0.0\n",
            "    Uninstalling chardet-4.0.0:\n",
            "      Successfully uninstalled chardet-4.0.0\n",
            "  Attempting uninstall: idna\n",
            "    Found existing installation: idna 3.4\n",
            "    Uninstalling idna-3.4:\n",
            "      Successfully uninstalled idna-3.4\n",
            "Successfully installed chardet-3.0.4 googletrans-4.0.0rc1 h11-0.9.0 h2-3.2.0 hpack-3.0.0 hstspreload-2023.1.1 httpcore-0.9.1 httpx-0.13.3 hyperframe-5.2.0 idna-2.10 rfc3986-1.5.0\n"
          ]
        },
        {
          "output_type": "display_data",
          "data": {
            "application/vnd.colab-display-data+json": {
              "pip_warning": {
                "packages": [
                  "chardet",
                  "idna"
                ]
              }
            }
          },
          "metadata": {}
        }
      ]
    },
    {
      "cell_type": "code",
      "source": [
        "# Wave-Text-Translation-Speech-mp3"
      ],
      "metadata": {
        "id": "0km3JRHQVj4D"
      },
      "execution_count": null,
      "outputs": []
    },
    {
      "cell_type": "code",
      "source": [
        "from googletrans import Translator\n",
        "translator=Translator()\n",
        "translation=translator.translate('In a game of diplomatic cat and mouse, Russia and the west are coming up with similar if sometimes competing ideas for how Ukraine’s badly needed grain can be given safe passage through the Black Sea and on to the world markets. They are also competing to win the battle for world opinion if the plans collapse.', dest='fr')\n",
        "#A=translation\n",
        "#speak = gTTS(text=A,lang='vi',slow=False)\n",
        "#speak.save('baihat1.mp3')\n",
        "print(translation)"
      ],
      "metadata": {
        "colab": {
          "base_uri": "https://localhost:8080/"
        },
        "id": "UAyGi7oeUKaJ",
        "outputId": "56198985-9dea-4d31-dff5-193ba915bbb7"
      },
      "execution_count": 79,
      "outputs": [
        {
          "output_type": "stream",
          "name": "stdout",
          "text": [
            "Translated(src=en, dest=vi, text=Trong một trò chơi về mèo và chuột ngoại giao, Nga và phương Tây đang đưa ra những ý tưởng tương tự nếu đôi khi cạnh tranh về cách mà Ukraine rất cần hạt có thể được đưa ra an toàn qua Biển Đen và trên thị trường thế giới.Họ cũng đang cạnh tranh để giành chiến thắng trong cuộc chiến cho ý kiến thế giới nếu các kế hoạch sụp đổ., pronunciation=None, extra_data=\"{'confiden...\")\n"
          ]
        }
      ]
    }
  ]
}